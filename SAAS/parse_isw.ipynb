{
 "cells": [
  {
   "cell_type": "code",
   "execution_count": null,
   "id": "d2a3e64b",
   "metadata": {},
   "outputs": [],
   "source": [
    "import requests\n",
    "from bs4 import BeautifulSoup\n",
    "import pandas as pd\n",
    "from sklearn.feature_extraction.text import TfidfVectorizer\n",
    "from datetime import datetime\n",
    "import re\n",
    "\n",
    "url = 'https://www.understandingwar.org/backgrounder/russian-offensive-campaign-assessment-april-25-2025'\n",
    "response = requests.get(url)\n",
    "soup = BeautifulSoup(response.content, 'html.parser')\n",
    "\n",
    "content_div = soup.find('div', class_='field field-name-body field-type-text-with-summary field-label-hidden')\n",
    "if content_div:\n",
    "    paragraphs = content_div.find_all('p')\n",
    "    text = ' '.join([p.get_text() for p in paragraphs])\n",
    "else:\n",
    "    text = ''\n",
    "\n",
    "def preprocess(text):\n",
    "    text = text.lower()\n",
    "    text = re.sub(r'[^a-z\\s]', '', text)\n",
    "    words = text.split()\n",
    "    stop_words = {'the', 'and', 'to', 'of', 'in', 'a', 'that', 'is', 'for', 'on', 'with', 'as', 'by', 'at', 'from',\n",
    "                  'it', 'an', 'be', 'this', 'are', 'was', 'or', 'which', 'but', 'has', 'have', 'not', 'were', 'their',\n",
    "                  'they', 'been', 'its', 'he', 'she', 'his', 'her', 'them', 'we', 'us', 'our', 'you', 'your', 'i', 'me',\n",
    "                  'my', 'mine'}\n",
    "    filtered_words = [word for word in words if word not in stop_words]\n",
    "    return ' '.join(filtered_words)\n",
    "\n",
    "cleaned_text = preprocess(text)\n",
    "\n",
    "vectorizer = TfidfVectorizer()\n",
    "tfidf_matrix = vectorizer.fit_transform([cleaned_text])\n",
    "feature_names = vectorizer.get_feature_names_out()\n",
    "tfidf_scores = tfidf_matrix.toarray()[0]\n",
    "\n",
    "core_words = [\n",
    "    'russian', 'ukrainian', 'forces', 'ukraine', 'russia',\n",
    "    'oblast', 'military', 'operations', 'offensive',\n",
    "    'bakhmut', 'likely', 'war', 'defense',\n",
    "    'reported', 'claimed', 'stated', 'continued',\n",
    "    'kremlin', 'putin', 'wagner', 'president', 'general', 'city', 'donetsk', 'western'\n",
    "]\n",
    "\n",
    "data = {'date': [int(datetime.strptime('2025-04-25', '%Y-%m-%d').timestamp())]}\n",
    "for word in core_words:\n",
    "    if word in feature_names:\n",
    "        index = list(feature_names).index(word)\n",
    "        data[word] = [tfidf_scores[index]]\n",
    "    else:\n",
    "        data[word] = [0.0]\n",
    "\n",
    "df = pd.DataFrame(data)\n",
    "\n",
    "df.to_csv('data/isw_latest_report.csv', sep=';', index=False)"
   ]
  }
 ],
 "metadata": {
  "kernelspec": {
   "display_name": ".venv",
   "language": "python",
   "name": "python3"
  },
  "language_info": {
   "codemirror_mode": {
    "name": "ipython",
    "version": 3
   },
   "file_extension": ".py",
   "mimetype": "text/x-python",
   "name": "python",
   "nbconvert_exporter": "python",
   "pygments_lexer": "ipython3",
   "version": "3.12.3"
  }
 },
 "nbformat": 4,
 "nbformat_minor": 5
}
