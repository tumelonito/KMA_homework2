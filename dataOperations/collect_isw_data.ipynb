{
 "cells": [
  {
   "metadata": {},
   "cell_type": "code",
   "source": [
    "import time\n",
    "import requests\n",
    "from datetime import datetime, timedelta"
   ],
   "id": "ed39e560187e9a62",
   "outputs": [],
   "execution_count": null
  },
  {
   "metadata": {
    "ExecuteTime": {
     "end_time": "2025-03-25T23:12:48.564518Z",
     "start_time": "2025-03-25T23:12:48.561727Z"
    }
   },
   "cell_type": "code",
   "source": [
    "BASE_URL = \"https://understandingwar.org/backgrounder/russian-offensive-campaign-assessment\"\n",
    "OUTPUT_FOLDER = \"data/isw_raw\""
   ],
   "id": "64a4655bf3254aa4",
   "outputs": [],
   "execution_count": 37
  },
  {
   "metadata": {
    "ExecuteTime": {
     "end_time": "2025-03-25T23:12:21.908032Z",
     "start_time": "2025-03-25T23:12:21.904130Z"
    }
   },
   "cell_type": "code",
   "source": [
    "def generate_dates(start_date, end_date):\n",
    "    current_date = start_date\n",
    "    while current_date <= end_date:\n",
    "        yield current_date\n",
    "        current_date += timedelta(days=1)"
   ],
   "id": "34f26b5d7f684789",
   "outputs": [],
   "execution_count": 33
  },
  {
   "metadata": {
    "ExecuteTime": {
     "end_time": "2025-03-25T23:12:32.922878Z",
     "start_time": "2025-03-25T23:12:32.916455Z"
    }
   },
   "cell_type": "code",
   "source": [
    "def handle_error(file_name):\n",
    "    match file_name:\n",
    "        case \"february_24_2022\":\n",
    "            save_page(\n",
    "                \"https://www.understandingwar.org/backgrounder/russia-ukraine-warning-update-initial-russian-offensive-campaign-assessment\",\n",
    "                file_name)\n",
    "            return True\n",
    "        case \"february_25_2022\":\n",
    "            save_page(\"https://www.understandingwar.org/backgrounder/russia-ukraine-warning-update-russian-offensive-campaign-assessment-february-25-2022\", file_name)\n",
    "            return True\n",
    "        case \"february_26_2022\":\n",
    "            save_page(\"https://www.understandingwar.org/backgrounder/russia-ukraine-warning-update-russian-offensive-campaign-assessment-february-26\", file_name)\n",
    "            return True\n",
    "        case \"february_27_2022\":\n",
    "            save_page(\"https://www.understandingwar.org/backgrounder/russia-ukraine-warning-update-russian-offensive-campaign-assessment-february-27\", file_name)\n",
    "            return True\n",
    "        case \"february_28_2022\":\n",
    "            save_page(\"https://isw.pub/RusCampaignFeb28\", file_name)\n",
    "            return True\n",
    "        case \"may_5_2022\":\n",
    "            save_page(\"https://isw.pub/RusCampaignMay5\", file_name)\n",
    "            return True\n",
    "        case \"july_11_2022\":\n",
    "            save_page(\"https://isw.pub/RusCampaignJuly11\", file_name)\n",
    "            return True\n",
    "        case \"august_12_2022\":\n",
    "            save_page(\"https://isw.pub/RusCampaignAugust12\", file_name)\n",
    "            return True\n",
    "    return False"
   ],
   "id": "9bea8d2621beda34",
   "outputs": [],
   "execution_count": 35
  },
  {
   "metadata": {
    "ExecuteTime": {
     "end_time": "2025-03-25T23:12:34.120326Z",
     "start_time": "2025-03-25T23:12:34.115872Z"
    }
   },
   "cell_type": "code",
   "source": [
    "def save_page(url, file_name):\n",
    "    page = requests.get(url)\n",
    "    if page.status_code == requests.codes.ok:\n",
    "        with open(f\"{OUTPUT_FOLDER}/{file_name}.html\",'wb+') as f:\n",
    "            f.write(page.content)\n",
    "            time.sleep(1)\n",
    "    else:\n",
    "        if not handle_error(file_name):\n",
    "            print(f\"{url} failed. Status code: {page.status_code}\")"
   ],
   "id": "db8a2fea2f695746",
   "outputs": [],
   "execution_count": 36
  },
  {
   "metadata": {},
   "cell_type": "markdown",
   "source": "Collecting data from February 2022 to January 2023",
   "id": "d439a0d9579f47a5"
  },
  {
   "metadata": {
    "ExecuteTime": {
     "end_time": "2025-03-25T23:18:09.687104Z",
     "start_time": "2025-03-25T23:16:23.429500Z"
    }
   },
   "cell_type": "code",
   "source": [
    "for date in generate_dates(datetime(2022, 2, 24), datetime(2022, 12, 31)):\n",
    "    file_name = date.strftime('%B_%d_%Y').lower()\n",
    "    url = f\"{BASE_URL}-{date.strftime('%B-%d').replace('-0', '-').lower()}\"\n",
    "    save_page(url, file_name)"
   ],
   "id": "47809debaf21f6be",
   "outputs": [
    {
     "name": "stdout",
     "output_type": "stream",
     "text": [
      "https://understandingwar.org/backgrounder/russian-offensive-campaign-assessment-may-5 failed. Status code: 404\n",
      "https://understandingwar.org/backgrounder/russian-offensive-campaign-assessment-november-24 failed. Status code: 404\n",
      "https://understandingwar.org/backgrounder/russian-offensive-campaign-assessment-december-25 failed. Status code: 404\n"
     ]
    }
   ],
   "execution_count": 42
  },
  {
   "metadata": {},
   "cell_type": "markdown",
   "source": "Collecting data from January 2023 to March 2025",
   "id": "84e80272d3c9933"
  },
  {
   "metadata": {
    "ExecuteTime": {
     "end_time": "2025-03-25T23:27:24.670555Z",
     "start_time": "2025-03-25T23:18:16.776720Z"
    }
   },
   "cell_type": "code",
   "source": [
    "for date in generate_dates(datetime(2023, 1, 2), datetime(2025, 3, 1)):\n",
    "    file_name = date.strftime('%B_%d_%Y').lower()\n",
    "    url = f\"https://isw.pub/UkrWar{date.strftime('%m%d%y')}\"\n",
    "    save_page(url, file_name)"
   ],
   "id": "207872af9ebf4b60",
   "outputs": [
    {
     "name": "stdout",
     "output_type": "stream",
     "text": [
      "https://isw.pub/UkrWar011923 failed. Status code: 404\n",
      "https://isw.pub/UkrWar021223 failed. Status code: 404\n",
      "https://isw.pub/UkrWar022423 failed. Status code: 404\n",
      "https://isw.pub/UkrWar022723 failed. Status code: 404\n",
      "https://isw.pub/UkrWar030123 failed. Status code: 404\n",
      "https://isw.pub/UkrWar030423 failed. Status code: 404\n",
      "https://isw.pub/UkrWar030523 failed. Status code: 404\n",
      "https://isw.pub/UkrWar112323 failed. Status code: 404\n",
      "https://isw.pub/UkrWar122523 failed. Status code: 404\n",
      "https://isw.pub/UkrWar010124 failed. Status code: 404\n",
      "https://isw.pub/UkrWar041224 failed. Status code: 404\n",
      "https://isw.pub/UkrWar100824 failed. Status code: 404\n",
      "https://isw.pub/UkrWar112824 failed. Status code: 404\n",
      "https://isw.pub/UkrWar122524 failed. Status code: 404\n",
      "https://isw.pub/UkrWar010125 failed. Status code: 404\n"
     ]
    }
   ],
   "execution_count": 43
  }
 ],
 "metadata": {
  "kernelspec": {
   "display_name": "Python 3",
   "language": "python",
   "name": "python3"
  },
  "language_info": {
   "codemirror_mode": {
    "name": "ipython",
    "version": 2
   },
   "file_extension": ".py",
   "mimetype": "text/x-python",
   "name": "python",
   "nbconvert_exporter": "python",
   "pygments_lexer": "ipython2",
   "version": "2.7.6"
  }
 },
 "nbformat": 4,
 "nbformat_minor": 5
}
