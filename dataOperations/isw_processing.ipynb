{
 "cells": [
  {
   "cell_type": "code",
   "execution_count": 24,
   "metadata": {},
   "outputs": [],
   "source": [
    "import pandas as pd\n",
    "from datetime import datetime"
   ]
  },
  {
   "cell_type": "code",
   "execution_count": 25,
   "metadata": {},
   "outputs": [],
   "source": [
    "path = \"data/ISW_csv/isw_articles.csv\""
   ]
  },
  {
   "cell_type": "code",
   "execution_count": 26,
   "metadata": {},
   "outputs": [],
   "source": [
    "data = pd.read_csv(path)"
   ]
  },
  {
   "cell_type": "code",
   "execution_count": 27,
   "metadata": {},
   "outputs": [
    {
     "data": {
      "text/html": [
       "<div>\n",
       "<style scoped>\n",
       "    .dataframe tbody tr th:only-of-type {\n",
       "        vertical-align: middle;\n",
       "    }\n",
       "\n",
       "    .dataframe tbody tr th {\n",
       "        vertical-align: top;\n",
       "    }\n",
       "\n",
       "    .dataframe thead th {\n",
       "        text-align: right;\n",
       "    }\n",
       "</style>\n",
       "<table border=\"1\" class=\"dataframe\">\n",
       "  <thead>\n",
       "    <tr style=\"text-align: right;\">\n",
       "      <th></th>\n",
       "      <th>id</th>\n",
       "      <th>title</th>\n",
       "      <th>date</th>\n",
       "      <th>summary</th>\n",
       "    </tr>\n",
       "  </thead>\n",
       "  <tbody>\n",
       "    <tr>\n",
       "      <th>0</th>\n",
       "      <td>2</td>\n",
       "      <td>Russian Offensive Campaign Assessment, March 2...</td>\n",
       "      <td>March 23, 2025 - ISW Press</td>\n",
       "      <td>US and Ukrainian officials are meeting in Riya...</td>\n",
       "    </tr>\n",
       "    <tr>\n",
       "      <th>1</th>\n",
       "      <td>3</td>\n",
       "      <td>Russian Offensive Campaign Assessment, March 2...</td>\n",
       "      <td>March 22, 2025 - ISW Press</td>\n",
       "      <td>US Special Envoy to the Middle East Steve Witk...</td>\n",
       "    </tr>\n",
       "    <tr>\n",
       "      <th>2</th>\n",
       "      <td>4</td>\n",
       "      <td>Russian Offensive Campaign Assessment, March 2...</td>\n",
       "      <td>March 21, 2025 - ISW Press</td>\n",
       "      <td>The Kremlin is weaponizing ongoing ceasefire n...</td>\n",
       "    </tr>\n",
       "    <tr>\n",
       "      <th>3</th>\n",
       "      <td>5</td>\n",
       "      <td>Russian Offensive Campaign Assessment, March 2...</td>\n",
       "      <td>March 20, 2025 - ISW Press</td>\n",
       "      <td>Ukrainian forces conducted a drone strike agai...</td>\n",
       "    </tr>\n",
       "    <tr>\n",
       "      <th>4</th>\n",
       "      <td>6</td>\n",
       "      <td>Russian Offensive Campaign Assessment, March 1...</td>\n",
       "      <td>March 19, 2025 - ISW Press</td>\n",
       "      <td>Russia and Ukraine have not formally announced...</td>\n",
       "    </tr>\n",
       "  </tbody>\n",
       "</table>\n",
       "</div>"
      ],
      "text/plain": [
       "   id                                              title  \\\n",
       "0   2  Russian Offensive Campaign Assessment, March 2...   \n",
       "1   3  Russian Offensive Campaign Assessment, March 2...   \n",
       "2   4  Russian Offensive Campaign Assessment, March 2...   \n",
       "3   5  Russian Offensive Campaign Assessment, March 2...   \n",
       "4   6  Russian Offensive Campaign Assessment, March 1...   \n",
       "\n",
       "                         date  \\\n",
       "0  March 23, 2025 - ISW Press   \n",
       "1  March 22, 2025 - ISW Press   \n",
       "2  March 21, 2025 - ISW Press   \n",
       "3  March 20, 2025 - ISW Press   \n",
       "4  March 19, 2025 - ISW Press   \n",
       "\n",
       "                                             summary  \n",
       "0  US and Ukrainian officials are meeting in Riya...  \n",
       "1  US Special Envoy to the Middle East Steve Witk...  \n",
       "2  The Kremlin is weaponizing ongoing ceasefire n...  \n",
       "3  Ukrainian forces conducted a drone strike agai...  \n",
       "4  Russia and Ukraine have not formally announced...  "
      ]
     },
     "execution_count": 27,
     "metadata": {},
     "output_type": "execute_result"
    }
   ],
   "source": [
    "data.head(5)"
   ]
  },
  {
   "cell_type": "code",
   "execution_count": 28,
   "metadata": {},
   "outputs": [
    {
     "data": {
      "text/plain": [
       "(1139, 4)"
      ]
     },
     "execution_count": 28,
     "metadata": {},
     "output_type": "execute_result"
    }
   ],
   "source": [
    "data.shape"
   ]
  },
  {
   "cell_type": "code",
   "execution_count": 29,
   "metadata": {},
   "outputs": [
    {
     "data": {
      "text/plain": [
       "Index(['id', 'title', 'date', 'summary'], dtype='object')"
      ]
     },
     "execution_count": 29,
     "metadata": {},
     "output_type": "execute_result"
    }
   ],
   "source": [
    "data.columns"
   ]
  },
  {
   "cell_type": "code",
   "execution_count": 30,
   "metadata": {},
   "outputs": [
    {
     "name": "stdout",
     "output_type": "stream",
     "text": [
      "   id                                              title  \\\n",
      "0   2  Russian Offensive Campaign Assessment, March 2...   \n",
      "1   3  Russian Offensive Campaign Assessment, March 2...   \n",
      "2   4  Russian Offensive Campaign Assessment, March 2...   \n",
      "3   5  Russian Offensive Campaign Assessment, March 2...   \n",
      "4   6  Russian Offensive Campaign Assessment, March 1...   \n",
      "\n",
      "                         date  \\\n",
      "0  March 23, 2025 - ISW Press   \n",
      "1  March 22, 2025 - ISW Press   \n",
      "2  March 21, 2025 - ISW Press   \n",
      "3  March 20, 2025 - ISW Press   \n",
      "4  March 19, 2025 - ISW Press   \n",
      "\n",
      "                                             summary  \n",
      "0  US and Ukrainian officials are meeting in Riya...  \n",
      "1  US Special Envoy to the Middle East Steve Witk...  \n",
      "2  The Kremlin is weaponizing ongoing ceasefire n...  \n",
      "3  Ukrainian forces conducted a drone strike agai...  \n",
      "4  Russia and Ukraine have not formally announced...  \n"
     ]
    }
   ],
   "source": [
    "data.columns = ['id', 'title', 'date', 'summary']\n",
    "\n",
    "print(data.head())\n",
    "\n",
    "data.to_csv(path, index=False)"
   ]
  },
  {
   "cell_type": "code",
   "execution_count": 31,
   "metadata": {},
   "outputs": [
    {
     "data": {
      "text/html": [
       "<div>\n",
       "<style scoped>\n",
       "    .dataframe tbody tr th:only-of-type {\n",
       "        vertical-align: middle;\n",
       "    }\n",
       "\n",
       "    .dataframe tbody tr th {\n",
       "        vertical-align: top;\n",
       "    }\n",
       "\n",
       "    .dataframe thead th {\n",
       "        text-align: right;\n",
       "    }\n",
       "</style>\n",
       "<table border=\"1\" class=\"dataframe\">\n",
       "  <thead>\n",
       "    <tr style=\"text-align: right;\">\n",
       "      <th></th>\n",
       "      <th>id</th>\n",
       "      <th>title</th>\n",
       "      <th>date</th>\n",
       "      <th>summary</th>\n",
       "    </tr>\n",
       "  </thead>\n",
       "  <tbody>\n",
       "    <tr>\n",
       "      <th>0</th>\n",
       "      <td>2</td>\n",
       "      <td>Russian Offensive Campaign Assessment, March 2...</td>\n",
       "      <td>March 23, 2025 - ISW Press</td>\n",
       "      <td>US and Ukrainian officials are meeting in Riya...</td>\n",
       "    </tr>\n",
       "    <tr>\n",
       "      <th>1</th>\n",
       "      <td>3</td>\n",
       "      <td>Russian Offensive Campaign Assessment, March 2...</td>\n",
       "      <td>March 22, 2025 - ISW Press</td>\n",
       "      <td>US Special Envoy to the Middle East Steve Witk...</td>\n",
       "    </tr>\n",
       "    <tr>\n",
       "      <th>2</th>\n",
       "      <td>4</td>\n",
       "      <td>Russian Offensive Campaign Assessment, March 2...</td>\n",
       "      <td>March 21, 2025 - ISW Press</td>\n",
       "      <td>The Kremlin is weaponizing ongoing ceasefire n...</td>\n",
       "    </tr>\n",
       "    <tr>\n",
       "      <th>3</th>\n",
       "      <td>5</td>\n",
       "      <td>Russian Offensive Campaign Assessment, March 2...</td>\n",
       "      <td>March 20, 2025 - ISW Press</td>\n",
       "      <td>Ukrainian forces conducted a drone strike agai...</td>\n",
       "    </tr>\n",
       "    <tr>\n",
       "      <th>4</th>\n",
       "      <td>6</td>\n",
       "      <td>Russian Offensive Campaign Assessment, March 1...</td>\n",
       "      <td>March 19, 2025 - ISW Press</td>\n",
       "      <td>Russia and Ukraine have not formally announced...</td>\n",
       "    </tr>\n",
       "  </tbody>\n",
       "</table>\n",
       "</div>"
      ],
      "text/plain": [
       "   id                                              title  \\\n",
       "0   2  Russian Offensive Campaign Assessment, March 2...   \n",
       "1   3  Russian Offensive Campaign Assessment, March 2...   \n",
       "2   4  Russian Offensive Campaign Assessment, March 2...   \n",
       "3   5  Russian Offensive Campaign Assessment, March 2...   \n",
       "4   6  Russian Offensive Campaign Assessment, March 1...   \n",
       "\n",
       "                         date  \\\n",
       "0  March 23, 2025 - ISW Press   \n",
       "1  March 22, 2025 - ISW Press   \n",
       "2  March 21, 2025 - ISW Press   \n",
       "3  March 20, 2025 - ISW Press   \n",
       "4  March 19, 2025 - ISW Press   \n",
       "\n",
       "                                             summary  \n",
       "0  US and Ukrainian officials are meeting in Riya...  \n",
       "1  US Special Envoy to the Middle East Steve Witk...  \n",
       "2  The Kremlin is weaponizing ongoing ceasefire n...  \n",
       "3  Ukrainian forces conducted a drone strike agai...  \n",
       "4  Russia and Ukraine have not formally announced...  "
      ]
     },
     "execution_count": 31,
     "metadata": {},
     "output_type": "execute_result"
    }
   ],
   "source": [
    "data.head(5)"
   ]
  },
  {
   "cell_type": "code",
   "execution_count": 39,
   "metadata": {},
   "outputs": [
    {
     "name": "stdout",
     "output_type": "stream",
     "text": [
      "Унікальні значення перед обробкою:\n",
      " ['March 23, 2025 - ISW Press' 'March 22, 2025 - ISW Press'\n",
      " 'March 21, 2025 - ISW Press' ... 'February 26, 2022 - ISW Press'\n",
      " 'February 25, 2022 - ISW Press' 'February 24, 2022 - ISW Press']\n",
      "Унікальні значення після обробки:\n",
      " ['2025-03-23' '2025-03-22' '2025-03-21' ... '2022-02-26' '2022-02-25'\n",
      " '2022-02-24']\n"
     ]
    }
   ],
   "source": [
    "def convert_date(date_str):\n",
    "    try:\n",
    "        clean_date = date_str.split(\" - \")[0].strip()\n",
    "        return datetime.strptime(clean_date, \"%B %d, %Y\").strftime(\"%Y-%m-%d\")\n",
    "    except Exception as e:\n",
    "        print(f\"Error parsing date: {date_str} - {e}\")\n",
    "        return None \n",
    "\n",
    "print(\"Унікальні значення перед обробкою:\\n\", data[\"date\"].unique())\n",
    "\n",
    "data[\"date\"] = data[\"date\"].astype(str).apply(convert_date)\n",
    "\n",
    "print(\"Унікальні значення після обробки:\\n\", data[\"date\"].unique())"
   ]
  },
  {
   "cell_type": "code",
   "execution_count": 41,
   "metadata": {},
   "outputs": [
    {
     "data": {
      "text/plain": [
       "array(['2025-03-23', '2025-03-22', '2025-03-21', ..., '2022-02-26',\n",
       "       '2022-02-25', '2022-02-24'], shape=(1027,), dtype=object)"
      ]
     },
     "execution_count": 41,
     "metadata": {},
     "output_type": "execute_result"
    }
   ],
   "source": [
    "data.date.unique()"
   ]
  },
  {
   "cell_type": "code",
   "execution_count": 42,
   "metadata": {},
   "outputs": [
    {
     "data": {
      "text/html": [
       "<div>\n",
       "<style scoped>\n",
       "    .dataframe tbody tr th:only-of-type {\n",
       "        vertical-align: middle;\n",
       "    }\n",
       "\n",
       "    .dataframe tbody tr th {\n",
       "        vertical-align: top;\n",
       "    }\n",
       "\n",
       "    .dataframe thead th {\n",
       "        text-align: right;\n",
       "    }\n",
       "</style>\n",
       "<table border=\"1\" class=\"dataframe\">\n",
       "  <thead>\n",
       "    <tr style=\"text-align: right;\">\n",
       "      <th></th>\n",
       "      <th>id</th>\n",
       "      <th>title</th>\n",
       "      <th>date</th>\n",
       "      <th>summary</th>\n",
       "    </tr>\n",
       "  </thead>\n",
       "  <tbody>\n",
       "    <tr>\n",
       "      <th>0</th>\n",
       "      <td>2</td>\n",
       "      <td>Russian Offensive Campaign Assessment, March 2...</td>\n",
       "      <td>2025-03-23</td>\n",
       "      <td>US and Ukrainian officials are meeting in Riya...</td>\n",
       "    </tr>\n",
       "    <tr>\n",
       "      <th>1</th>\n",
       "      <td>3</td>\n",
       "      <td>Russian Offensive Campaign Assessment, March 2...</td>\n",
       "      <td>2025-03-22</td>\n",
       "      <td>US Special Envoy to the Middle East Steve Witk...</td>\n",
       "    </tr>\n",
       "    <tr>\n",
       "      <th>2</th>\n",
       "      <td>4</td>\n",
       "      <td>Russian Offensive Campaign Assessment, March 2...</td>\n",
       "      <td>2025-03-21</td>\n",
       "      <td>The Kremlin is weaponizing ongoing ceasefire n...</td>\n",
       "    </tr>\n",
       "    <tr>\n",
       "      <th>3</th>\n",
       "      <td>5</td>\n",
       "      <td>Russian Offensive Campaign Assessment, March 2...</td>\n",
       "      <td>2025-03-20</td>\n",
       "      <td>Ukrainian forces conducted a drone strike agai...</td>\n",
       "    </tr>\n",
       "    <tr>\n",
       "      <th>4</th>\n",
       "      <td>6</td>\n",
       "      <td>Russian Offensive Campaign Assessment, March 1...</td>\n",
       "      <td>2025-03-19</td>\n",
       "      <td>Russia and Ukraine have not formally announced...</td>\n",
       "    </tr>\n",
       "  </tbody>\n",
       "</table>\n",
       "</div>"
      ],
      "text/plain": [
       "   id                                              title        date  \\\n",
       "0   2  Russian Offensive Campaign Assessment, March 2...  2025-03-23   \n",
       "1   3  Russian Offensive Campaign Assessment, March 2...  2025-03-22   \n",
       "2   4  Russian Offensive Campaign Assessment, March 2...  2025-03-21   \n",
       "3   5  Russian Offensive Campaign Assessment, March 2...  2025-03-20   \n",
       "4   6  Russian Offensive Campaign Assessment, March 1...  2025-03-19   \n",
       "\n",
       "                                             summary  \n",
       "0  US and Ukrainian officials are meeting in Riya...  \n",
       "1  US Special Envoy to the Middle East Steve Witk...  \n",
       "2  The Kremlin is weaponizing ongoing ceasefire n...  \n",
       "3  Ukrainian forces conducted a drone strike agai...  \n",
       "4  Russia and Ukraine have not formally announced...  "
      ]
     },
     "execution_count": 42,
     "metadata": {},
     "output_type": "execute_result"
    }
   ],
   "source": [
    "data.head(5)"
   ]
  },
  {
   "cell_type": "code",
   "execution_count": 43,
   "metadata": {},
   "outputs": [
    {
     "data": {
      "text/html": [
       "<div>\n",
       "<style scoped>\n",
       "    .dataframe tbody tr th:only-of-type {\n",
       "        vertical-align: middle;\n",
       "    }\n",
       "\n",
       "    .dataframe tbody tr th {\n",
       "        vertical-align: top;\n",
       "    }\n",
       "\n",
       "    .dataframe thead th {\n",
       "        text-align: right;\n",
       "    }\n",
       "</style>\n",
       "<table border=\"1\" class=\"dataframe\">\n",
       "  <thead>\n",
       "    <tr style=\"text-align: right;\">\n",
       "      <th></th>\n",
       "      <th>id</th>\n",
       "      <th>title</th>\n",
       "      <th>date</th>\n",
       "      <th>summary</th>\n",
       "    </tr>\n",
       "  </thead>\n",
       "  <tbody>\n",
       "    <tr>\n",
       "      <th>1134</th>\n",
       "      <td>1136</td>\n",
       "      <td>Russia-Ukraine Warning Update: Russian Offensi...</td>\n",
       "      <td>2022-02-26</td>\n",
       "      <td>Russian forces’ main axes of advance in the la...</td>\n",
       "    </tr>\n",
       "    <tr>\n",
       "      <th>1135</th>\n",
       "      <td>1137</td>\n",
       "      <td>Turkey Juggles Relationships after Russia’s In...</td>\n",
       "      <td>2022-02-26</td>\n",
       "      <td>Turkish President Recep Tayyip Erdogan is call...</td>\n",
       "    </tr>\n",
       "    <tr>\n",
       "      <th>1136</th>\n",
       "      <td>1138</td>\n",
       "      <td>Ukraine Conflict Update 8</td>\n",
       "      <td>2022-02-25</td>\n",
       "      <td>Russian forces entered major Ukrainian cities—...</td>\n",
       "    </tr>\n",
       "    <tr>\n",
       "      <th>1137</th>\n",
       "      <td>1139</td>\n",
       "      <td>Russia-Ukraine Warning Update: Russian Offensi...</td>\n",
       "      <td>2022-02-25</td>\n",
       "      <td>Russian forces entered major Ukrainian cities—...</td>\n",
       "    </tr>\n",
       "    <tr>\n",
       "      <th>1138</th>\n",
       "      <td>1140</td>\n",
       "      <td>Russia-Ukraine Warning Update: Initial Russian...</td>\n",
       "      <td>2022-02-24</td>\n",
       "      <td>Russian President Vladimir Putin began a large...</td>\n",
       "    </tr>\n",
       "  </tbody>\n",
       "</table>\n",
       "</div>"
      ],
      "text/plain": [
       "        id                                              title        date  \\\n",
       "1134  1136  Russia-Ukraine Warning Update: Russian Offensi...  2022-02-26   \n",
       "1135  1137  Turkey Juggles Relationships after Russia’s In...  2022-02-26   \n",
       "1136  1138                          Ukraine Conflict Update 8  2022-02-25   \n",
       "1137  1139  Russia-Ukraine Warning Update: Russian Offensi...  2022-02-25   \n",
       "1138  1140  Russia-Ukraine Warning Update: Initial Russian...  2022-02-24   \n",
       "\n",
       "                                                summary  \n",
       "1134  Russian forces’ main axes of advance in the la...  \n",
       "1135  Turkish President Recep Tayyip Erdogan is call...  \n",
       "1136  Russian forces entered major Ukrainian cities—...  \n",
       "1137  Russian forces entered major Ukrainian cities—...  \n",
       "1138  Russian President Vladimir Putin began a large...  "
      ]
     },
     "execution_count": 43,
     "metadata": {},
     "output_type": "execute_result"
    }
   ],
   "source": [
    "data.tail(5)"
   ]
  },
  {
   "cell_type": "code",
   "execution_count": 44,
   "metadata": {},
   "outputs": [],
   "source": [
    "data.to_csv(path, index=False)"
   ]
  }
 ],
 "metadata": {
  "kernelspec": {
   "display_name": ".venv",
   "language": "python",
   "name": "python3"
  },
  "language_info": {
   "codemirror_mode": {
    "name": "ipython",
    "version": 3
   },
   "file_extension": ".py",
   "mimetype": "text/x-python",
   "name": "python",
   "nbconvert_exporter": "python",
   "pygments_lexer": "ipython3",
   "version": "3.13.0"
  }
 },
 "nbformat": 4,
 "nbformat_minor": 2
}
